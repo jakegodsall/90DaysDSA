{
 "cells": [
  {
   "cell_type": "markdown",
   "id": "d30e56bb",
   "metadata": {},
   "source": [
    "# What is Recursion?"
   ]
  },
  {
   "cell_type": "code",
   "execution_count": 5,
   "id": "527efffd",
   "metadata": {},
   "outputs": [],
   "source": [
    "import time"
   ]
  },
  {
   "cell_type": "markdown",
   "id": "d3d1aadd",
   "metadata": {},
   "source": [
    "Recursive functions require:\n",
    "\n",
    "- base case\n",
    "- recursive case\n",
    "\n",
    "without the base case, the recursion will go on forever and cause stack overflow.\n",
    "\n",
    "without the recursive case, the function is not a recursive function."
   ]
  },
  {
   "cell_type": "code",
   "execution_count": 2,
   "id": "16c8b4ec",
   "metadata": {},
   "outputs": [
    {
     "ename": "RecursionError",
     "evalue": "maximum recursion depth exceeded",
     "output_type": "error",
     "traceback": [
      "\u001b[0;31m---------------------------------------------------------------------------\u001b[0m",
      "\u001b[0;31mRecursionError\u001b[0m                            Traceback (most recent call last)",
      "Input \u001b[0;32mIn [2]\u001b[0m, in \u001b[0;36m<cell line: 5>\u001b[0;34m()\u001b[0m\n\u001b[1;32m      2\u001b[0m \u001b[38;5;28;01mdef\u001b[39;00m \u001b[38;5;21mshortest\u001b[39m():\n\u001b[1;32m      3\u001b[0m     shortest()\n\u001b[0;32m----> 5\u001b[0m \u001b[43mshortest\u001b[49m\u001b[43m(\u001b[49m\u001b[43m)\u001b[49m\n",
      "Input \u001b[0;32mIn [2]\u001b[0m, in \u001b[0;36mshortest\u001b[0;34m()\u001b[0m\n\u001b[1;32m      2\u001b[0m \u001b[38;5;28;01mdef\u001b[39;00m \u001b[38;5;21mshortest\u001b[39m():\n\u001b[0;32m----> 3\u001b[0m     \u001b[43mshortest\u001b[49m\u001b[43m(\u001b[49m\u001b[43m)\u001b[49m\n",
      "Input \u001b[0;32mIn [2]\u001b[0m, in \u001b[0;36mshortest\u001b[0;34m()\u001b[0m\n\u001b[1;32m      2\u001b[0m \u001b[38;5;28;01mdef\u001b[39;00m \u001b[38;5;21mshortest\u001b[39m():\n\u001b[0;32m----> 3\u001b[0m     \u001b[43mshortest\u001b[49m\u001b[43m(\u001b[49m\u001b[43m)\u001b[49m\n",
      "    \u001b[0;31m[... skipping similar frames: shortest at line 3 (2970 times)]\u001b[0m\n",
      "Input \u001b[0;32mIn [2]\u001b[0m, in \u001b[0;36mshortest\u001b[0;34m()\u001b[0m\n\u001b[1;32m      2\u001b[0m \u001b[38;5;28;01mdef\u001b[39;00m \u001b[38;5;21mshortest\u001b[39m():\n\u001b[0;32m----> 3\u001b[0m     \u001b[43mshortest\u001b[49m\u001b[43m(\u001b[49m\u001b[43m)\u001b[49m\n",
      "\u001b[0;31mRecursionError\u001b[0m: maximum recursion depth exceeded"
     ]
    }
   ],
   "source": [
    "# recursive function without base case\n",
    "def shortest():\n",
    "    shortest()\n",
    "    \n",
    "shortest()"
   ]
  },
  {
   "cell_type": "code",
   "execution_count": 3,
   "id": "8c15dbe7",
   "metadata": {},
   "outputs": [
    {
     "name": "stdout",
     "output_type": "stream",
     "text": [
      "Calling shortest_with_base_case(False):\n",
      "shortest_with_base_case(False)\n",
      "Returning from the base case\n",
      "\n",
      "Calling shortest_with_base_case(True):\n",
      "shortest_with_base_case(True)\n",
      "shortest_with_base_case(False)\n",
      "Returning from the base case\n",
      "Returning from the recursive case\n"
     ]
    }
   ],
   "source": [
    "# recursive function with base case\n",
    "def shortest_with_base_case(make_recursive_call):\n",
    "    print(f\"shortest_with_base_case({make_recursive_call})\")\n",
    "    if not make_recursive_call:\n",
    "        # base case\n",
    "        print(\"Returning from the base case\")\n",
    "        return\n",
    "    else:\n",
    "        # recursive case\n",
    "        shortest_with_base_case(False)\n",
    "        print(\"Returning from the recursive case\")\n",
    "        return\n",
    "    \n",
    "print('Calling shortest_with_base_case(False):')\n",
    "shortest_with_base_case(False)\n",
    "print()\n",
    "print('Calling shortest_with_base_case(True):')\n",
    "shortest_with_base_case(True)"
   ]
  },
  {
   "cell_type": "code",
   "execution_count": 4,
   "id": "0f0b90d8",
   "metadata": {},
   "outputs": [
    {
     "name": "stdout",
     "output_type": "stream",
     "text": [
      "3\n",
      "2\n",
      "1\n",
      "0\n",
      "Reached the base case\n",
      "1 returning\n",
      "2 returning\n",
      "3 returning\n"
     ]
    }
   ],
   "source": [
    "# count down and up\n",
    "def count_down_and_up(number):\n",
    "    print(number)\n",
    "    if number == 0:\n",
    "        # base case\n",
    "        print(\"Reached the base case\")\n",
    "        return\n",
    "    else:\n",
    "        # recursive case\n",
    "        count_down_and_up(number - 1)\n",
    "        print(number, \"returning\")\n",
    "        return\n",
    "    \n",
    "count_down_and_up(3)"
   ]
  },
  {
   "cell_type": "code",
   "execution_count": null,
   "id": "03e2db91",
   "metadata": {},
   "outputs": [],
   "source": []
  }
 ],
 "metadata": {
  "kernelspec": {
   "display_name": "Python 3 (ipykernel)",
   "language": "python",
   "name": "python3"
  },
  "language_info": {
   "codemirror_mode": {
    "name": "ipython",
    "version": 3
   },
   "file_extension": ".py",
   "mimetype": "text/x-python",
   "name": "python",
   "nbconvert_exporter": "python",
   "pygments_lexer": "ipython3",
   "version": "3.9.12"
  }
 },
 "nbformat": 4,
 "nbformat_minor": 5
}
