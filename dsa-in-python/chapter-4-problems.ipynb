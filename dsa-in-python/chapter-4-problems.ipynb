{
 "cells": [
  {
   "cell_type": "markdown",
   "id": "734c0bb5",
   "metadata": {},
   "source": [
    "## R-4.1 \n",
    "\n",
    "Describe a recursive algorithm for ﬁnding the maximum element in a sequence, S, of n elements. What is your running time and space usage?"
   ]
  },
  {
   "cell_type": "code",
   "execution_count": 4,
   "id": "c21cf355",
   "metadata": {},
   "outputs": [
    {
     "name": "stdout",
     "output_type": "stream",
     "text": [
      "20\n"
     ]
    }
   ],
   "source": [
    "def maximum(s, n): \n",
    "    if n == 1: # test: constant time\n",
    "        # base case\n",
    "        return s[0] # return value: constant time\n",
    "    else: # test; constant time\n",
    "        # recursive case\n",
    "        previous = maximum(s, n - 1)\n",
    "        current = s[n - 1] # indexing list: constant time\n",
    "        if previous > current: # test: constant time\n",
    "            return previous # return value: constant time\n",
    "        else: # test: constant time\n",
    "            return current # return value: constant time\n",
    "        \n",
    "print(maximum([5, 10, 20, 11, 3], 5)) "
   ]
  },
  {
   "cell_type": "markdown",
   "id": "92bd734d",
   "metadata": {},
   "source": [
    "Time complexity: the base function runs in $O(1)$ time, and for a list of size $n$, the recursive function will run $n$ times. Hence the time complexity is $$O(n)$$"
   ]
  },
  {
   "cell_type": "markdown",
   "id": "49c82501",
   "metadata": {},
   "source": [
    "## R-4.2\n",
    "\n",
    "Draw the recursion trace for the computation of power(2, 5)"
   ]
  },
  {
   "cell_type": "code",
   "execution_count": 7,
   "id": "8d3418d1",
   "metadata": {},
   "outputs": [
    {
     "data": {
      "text/plain": [
       "32"
      ]
     },
     "execution_count": 7,
     "metadata": {},
     "output_type": "execute_result"
    }
   ],
   "source": [
    "def power(a, n):\n",
    "    if n == 0:\n",
    "        # base case\n",
    "        return 1\n",
    "    else:\n",
    "        # recursive case\n",
    "        return a * power(a, n - 1)\n",
    "    \n",
    "power(2, 5)"
   ]
  },
  {
   "cell_type": "markdown",
   "id": "fb0c3743",
   "metadata": {},
   "source": [
    "<img src=\"recursion-trace.png\" height=200px>"
   ]
  },
  {
   "cell_type": "markdown",
   "id": "9dff90f7",
   "metadata": {},
   "source": [
    "## R-4.6\n",
    "\n",
    "Describe a recursive function for computing the $nth$ Harmonic number, given by\n",
    "\n",
    "$$H_{n} = \\sum_{i}^{n} \\frac{1}{i}$$"
   ]
  },
  {
   "cell_type": "code",
   "execution_count": 15,
   "id": "d748b2b9",
   "metadata": {},
   "outputs": [
    {
     "data": {
      "text/plain": [
       "[1,\n",
       " 1.5,\n",
       " 1.8333333333333333,\n",
       " 2.083333333333333,\n",
       " 2.283333333333333,\n",
       " 2.4499999999999997,\n",
       " 2.5928571428571425,\n",
       " 2.7178571428571425,\n",
       " 2.8289682539682537]"
      ]
     },
     "execution_count": 15,
     "metadata": {},
     "output_type": "execute_result"
    }
   ],
   "source": [
    "def harmonic(n):\n",
    "    if n == 1:\n",
    "        # base case\n",
    "        return 1\n",
    "    else:\n",
    "        # recursive case\n",
    "        return (1 / n) + harmonic(n - 1)\n",
    "    \n",
    "[harmonic(x) for x in range(1, 10)]"
   ]
  },
  {
   "cell_type": "markdown",
   "id": "de2f8f67",
   "metadata": {},
   "source": [
    "## R-4.7\n",
    "\n",
    "Describe a recursive function for converting a string of digits into the integer it represents"
   ]
  },
  {
   "cell_type": "markdown",
   "id": "2f40380f",
   "metadata": {},
   "source": [
    "## C-4.9\n",
    "\n",
    "Write a short recursive Python function that finds the minimum and maximum values in a sequence without using any loops."
   ]
  },
  {
   "cell_type": "code",
   "execution_count": 37,
   "id": "1b89adfe",
   "metadata": {},
   "outputs": [
    {
     "data": {
      "text/plain": [
       "(-72, 333)"
      ]
     },
     "execution_count": 37,
     "metadata": {},
     "output_type": "execute_result"
    }
   ],
   "source": [
    "def find_min_and_max(s, n):\n",
    "    \"\"\"\n",
    "        Returns a tuple (min, max) of minimum and maximum values in sequence\n",
    "        s of length n.\n",
    "    \"\"\"\n",
    "    def find_min(s, n):\n",
    "        if n == 1:\n",
    "            # base case\n",
    "            return s[n-1]\n",
    "        else:\n",
    "            # recursive case\n",
    "            previous = find_min(s, n-1)\n",
    "            current = s[n-1]\n",
    "            if previous < current:\n",
    "                return previous\n",
    "            else:\n",
    "                return current\n",
    "            \n",
    "    def find_max(s, n):\n",
    "        if n == 1:\n",
    "            # base case\n",
    "            return s[n - 1]\n",
    "        else:\n",
    "            # recursive case\n",
    "            previous = find_max(s, n-1)\n",
    "            current = s[n - 1]\n",
    "            if previous < current:\n",
    "                return current\n",
    "            else:\n",
    "                return previous\n",
    "        \n",
    "    return (find_min(s, n), find_max(s, n))\n",
    "        \n",
    "        \n",
    "        \n",
    "find_min_and_max([1, 5, 144, 333, -72, 55, -8], 7)"
   ]
  },
  {
   "cell_type": "code",
   "execution_count": null,
   "id": "168932e4",
   "metadata": {},
   "outputs": [],
   "source": []
  }
 ],
 "metadata": {
  "kernelspec": {
   "display_name": "Python 3 (ipykernel)",
   "language": "python",
   "name": "python3"
  },
  "language_info": {
   "codemirror_mode": {
    "name": "ipython",
    "version": 3
   },
   "file_extension": ".py",
   "mimetype": "text/x-python",
   "name": "python",
   "nbconvert_exporter": "python",
   "pygments_lexer": "ipython3",
   "version": "3.9.12"
  }
 },
 "nbformat": 4,
 "nbformat_minor": 5
}
