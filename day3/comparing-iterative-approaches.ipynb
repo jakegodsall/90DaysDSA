{
 "cells": [
  {
   "cell_type": "code",
   "execution_count": 12,
   "id": "317e0e3a",
   "metadata": {},
   "outputs": [],
   "source": [
    "import random\n",
    "import time\n",
    "\n",
    "import matplotlib.pyplot as plt\n",
    "import seaborn as sns\n",
    "\n",
    "random.seed(42)"
   ]
  },
  {
   "cell_type": "code",
   "execution_count": 28,
   "id": "15a916d7",
   "metadata": {},
   "outputs": [],
   "source": [
    "test_list = [random.randint(0, 100) for i in range(1000)]"
   ]
  },
  {
   "cell_type": "code",
   "execution_count": 29,
   "id": "96d6c198",
   "metadata": {},
   "outputs": [
    {
     "name": "stdout",
     "output_type": "stream",
     "text": [
      "Sum: 49679\n",
      "Executed in: 5.6743621826171875e-05\n"
     ]
    }
   ],
   "source": [
    "# iterative approach\n",
    "def sum_list_iterative(arr):\n",
    "    total = 0\n",
    "    for i in arr:\n",
    "        total += i\n",
    "    return total\n",
    "\n",
    "start = time.time()\n",
    "value = sum_list_iterative(test_list)\n",
    "end = time.time()\n",
    "\n",
    "time_taken = end - start\n",
    "\n",
    "print(f\"Sum: {value}\\nExecuted in: {time_taken}\")"
   ]
  },
  {
   "cell_type": "code",
   "execution_count": 31,
   "id": "3e79997f",
   "metadata": {},
   "outputs": [
    {
     "name": "stdout",
     "output_type": "stream",
     "text": [
      "Sum: 49679\n",
      "Executed in: 0.002930879592895508\n"
     ]
    }
   ],
   "source": [
    "# recursive approach 1\n",
    "def sum_list_recursive1(arr):\n",
    "    if len(arr) == 0:\n",
    "      # base case\n",
    "      return 0\n",
    "    else:\n",
    "      # recursive case\n",
    "      return sum_list_recursive(arr[0:-1]) + arr[-1]\n",
    "    \n",
    "start = time.time()\n",
    "value = sum_list_recursive1(test_list)\n",
    "end = time.time()\n",
    "\n",
    "time_taken = end - start\n",
    "\n",
    "print(f\"Sum: {value}\\nExecuted in: {time_taken}\")"
   ]
  },
  {
   "cell_type": "code",
   "execution_count": 32,
   "id": "27b22ecf",
   "metadata": {},
   "outputs": [
    {
     "name": "stdout",
     "output_type": "stream",
     "text": [
      "Sum: 49679\n",
      "Executed in: 0.003635406494140625\n"
     ]
    }
   ],
   "source": [
    "# recursive approach\n",
    "def sum_list_recursive2(arr):\n",
    "    if len(arr) == 0:\n",
    "        #base case\n",
    "        return 0\n",
    "    else:\n",
    "        # recursive case\n",
    "        return arr[0] + sum_list_recursive(arr[1:])\n",
    "    \n",
    "    \n",
    "start = time.time()\n",
    "value = sum_list_recursive2(test_list)\n",
    "end = time.time()\n",
    "\n",
    "time_taken = end - start\n",
    "\n",
    "print(f\"Sum: {value}\\nExecuted in: {time_taken}\")"
   ]
  },
  {
   "cell_type": "code",
   "execution_count": 34,
   "id": "747adbb8",
   "metadata": {},
   "outputs": [
    {
     "name": "stdout",
     "output_type": "stream",
     "text": [
      "Sum: 49679\n",
      "Executed in: 0.0005064010620117188\n"
     ]
    }
   ],
   "source": [
    "# recursive approach\n",
    "def sum_list_recursive3(arr):\n",
    "    if len(arr) == 0:\n",
    "        return 0\n",
    "    elif len(arr) == 1:\n",
    "        return arr[0]\n",
    "    else:\n",
    "        middle = len(arr) // 2\n",
    "        return sum_list_recursive3(arr[0:middle]) + sum_list_recursive3(arr[middle:])\n",
    "    \n",
    "start = time.time()\n",
    "value = sum_list_recursive3(test_list)\n",
    "end = time.time()\n",
    "\n",
    "time_taken = end - start\n",
    "\n",
    "print(f\"Sum: {value}\\nExecuted in: {time_taken}\")"
   ]
  },
  {
   "cell_type": "code",
   "execution_count": null,
   "id": "0403630b",
   "metadata": {},
   "outputs": [],
   "source": []
  }
 ],
 "metadata": {
  "kernelspec": {
   "display_name": "Python 3 (ipykernel)",
   "language": "python",
   "name": "python3"
  },
  "language_info": {
   "codemirror_mode": {
    "name": "ipython",
    "version": 3
   },
   "file_extension": ".py",
   "mimetype": "text/x-python",
   "name": "python",
   "nbconvert_exporter": "python",
   "pygments_lexer": "ipython3",
   "version": "3.9.12"
  }
 },
 "nbformat": 4,
 "nbformat_minor": 5
}
