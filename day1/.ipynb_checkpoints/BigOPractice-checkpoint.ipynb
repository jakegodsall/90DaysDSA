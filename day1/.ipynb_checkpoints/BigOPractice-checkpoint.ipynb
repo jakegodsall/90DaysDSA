{
 "cells": [
  {
   "cell_type": "markdown",
   "id": "dc9f70ff",
   "metadata": {},
   "source": [
    "# Big O Practice\n",
    "\n",
    "https://learnhowtoprogram.com/computer-science/big-o-notation-and-binary-trees/big-o-practice"
   ]
  },
  {
   "cell_type": "markdown",
   "id": "f1532fdf",
   "metadata": {},
   "source": [
    "## Problem 1\n",
    "\n",
    "We can use the following algorithm to see if a numerical value exists in an array. The algorithm will find the first place where the number exists and return its index.\n",
    "\n"
   ]
  },
  {
   "cell_type": "code",
   "execution_count": 2,
   "id": "ed17d0d5",
   "metadata": {},
   "outputs": [
    {
     "data": {
      "text/plain": [
       "2"
      ]
     },
     "execution_count": 2,
     "metadata": {},
     "output_type": "execute_result"
    }
   ],
   "source": [
    "def find_first_index_of_number(number, arr):   \n",
    "    for i in range(len(arr)): # loop n times (n = len(arr))\n",
    "        if arr[i] == number: # test: constant time\n",
    "            return i # return statement: constant time\n",
    "    return -1 # return statement: constant time\n",
    "\n",
    "test_list = [1, 2, 3, 4, 5]\n",
    "value = 3\n",
    "\n",
    "find_first_index_of_number(value, test_list)"
   ]
  },
  {
   "cell_type": "markdown",
   "id": "04ac5d7b",
   "metadata": {},
   "source": [
    "We need to loop through the array until it finds the first occurence of the number we are looking for.\n",
    "\n",
    "It must loop through the list at most one time.\n",
    "\n",
    "$$f(n) = O(n)$$"
   ]
  },
  {
   "cell_type": "markdown",
   "id": "81172162",
   "metadata": {},
   "source": [
    "## Problem 2\n",
    "\n",
    "Now for a wrinkle on the last problem. Instead of finding just the first index where a number exists, our algorithm needs to find every index where the number exists. Here's the algorithm:"
   ]
  },
  {
   "cell_type": "code",
   "execution_count": 4,
   "id": "296d42c8",
   "metadata": {},
   "outputs": [
    {
     "data": {
      "text/plain": [
       "[0, 2, 5]"
      ]
     },
     "execution_count": 4,
     "metadata": {},
     "output_type": "execute_result"
    }
   ],
   "source": [
    "def find_each_index_of_number(number, arr):\n",
    "    list_of_indexes = [] # declaration: constant time\n",
    "    for i in range(len(arr)): # loop n times (n = len(arr))\n",
    "        if arr[i] == number: # test: constant time\n",
    "            list_of_indexes.append(i) # appending to list: constant time\n",
    "    return list_of_indexes # returning value: constant time\n",
    "\n",
    "test_list = [1, 2, 1, 3, 2, 1]\n",
    "value = 1\n",
    "\n",
    "find_each_index_of_number(value, test_list)"
   ]
  },
  {
   "cell_type": "markdown",
   "id": "b0f21145",
   "metadata": {},
   "source": [
    "We still only need to loop through the array one time.\n",
    "\n",
    "$$f(n) = O(n)$$"
   ]
  },
  {
   "cell_type": "markdown",
   "id": "e2dd4fda",
   "metadata": {},
   "source": [
    "## Problem 3\n",
    "\n",
    "The following function checks to see if the last item in a data set is higher or lower than the first item in a data set - and returns Higher, Lower, or Neither."
   ]
  },
  {
   "cell_type": "code",
   "execution_count": 6,
   "id": "005b39ec",
   "metadata": {},
   "outputs": [
    {
     "data": {
      "text/plain": [
       "'Lower'"
      ]
     },
     "execution_count": 6,
     "metadata": {},
     "output_type": "execute_result"
    }
   ],
   "source": [
    "my_list = [36, 14, 1, 7, 21]\n",
    "\n",
    "def higher_or_lower(arr):\n",
    "    if (arr[-1] > arr[0]): # test: constant time\n",
    "        return \"Higher\" # return value: constant time\n",
    "    elif (arr[-1] < arr[0]): # test: constant time\n",
    "        return \"Lower\" # return value: constant time\n",
    "    else:\n",
    "        return \"Neither\" # return value: constant time\n",
    "    \n",
    "higher_or_lower(my_list)"
   ]
  },
  {
   "cell_type": "markdown",
   "id": "bcb74add",
   "metadata": {},
   "source": [
    "$$f(n) = O(1)$$"
   ]
  },
  {
   "cell_type": "markdown",
   "id": "634e671a",
   "metadata": {},
   "source": [
    "## Problem 4\n",
    "\n",
    "We can use the following function to determine the sum of an array of sequential numbers:"
   ]
  },
  {
   "cell_type": "code",
   "execution_count": 8,
   "id": "6ea1797c",
   "metadata": {},
   "outputs": [
    {
     "data": {
      "text/plain": [
       "36"
      ]
     },
     "execution_count": 8,
     "metadata": {},
     "output_type": "execute_result"
    }
   ],
   "source": [
    "my_list = [1,2,3,4,5,6,7,8]\n",
    "\n",
    "def sum_of_seq_list(arr):\n",
    "    total = 0 # variable declaration: constant time\n",
    "    for i in arr: # loop n times\n",
    "        total += i # sum: constant time\n",
    "    return total # return value: constant time\n",
    "\n",
    "sum_of_seq_list(my_list)"
   ]
  },
  {
   "cell_type": "markdown",
   "id": "f184f8b8",
   "metadata": {},
   "source": [
    "$$f(x) = O(n)$$"
   ]
  },
  {
   "cell_type": "markdown",
   "id": "b4b978e2",
   "metadata": {},
   "source": [
    "## Problem 5\n",
    "\n",
    "We can also find the sum of an array of sequential numbers that begins with one in another way as well:"
   ]
  },
  {
   "cell_type": "code",
   "execution_count": 10,
   "id": "0788ef92",
   "metadata": {},
   "outputs": [
    {
     "data": {
      "text/plain": [
       "36.0"
      ]
     },
     "execution_count": 10,
     "metadata": {},
     "output_type": "execute_result"
    }
   ],
   "source": [
    "my_list = [1,2,3,4,5,6,7,8]\n",
    "\n",
    "def another_method(arr):\n",
    "    return len(arr) * (len(arr) + 1) / 2 # return value: constant time\n",
    "\n",
    "another_method(my_list)"
   ]
  },
  {
   "cell_type": "markdown",
   "id": "139d0dd8",
   "metadata": {},
   "source": [
    "This is a much faster way of summing the values in a sequential array.\n",
    "\n",
    "$$f(x) = O(1)$$"
   ]
  },
  {
   "cell_type": "markdown",
   "id": "b0eff4d8",
   "metadata": {},
   "source": [
    "## Problem 6\n",
    "\n",
    "We can use the following recursive function to search an array of sorted numerical values to find a specific number in that array (or return -1 if the value isn't in the array)"
   ]
  },
  {
   "cell_type": "code",
   "execution_count": 20,
   "id": "8d9d06e2",
   "metadata": {},
   "outputs": [
    {
     "data": {
      "text/plain": [
       "4"
      ]
     },
     "execution_count": 20,
     "metadata": {},
     "output_type": "execute_result"
    }
   ],
   "source": [
    "import math\n",
    "\n",
    "arr = [1, 3, 5, 11, 14, 21]\n",
    "\n",
    "def search_sorted_list(number, arr, begin_index=0, end_index=len(arr)-1):\n",
    "    middle_index = math.floor((begin_index + end_index) / 2) # var assignment: constant time\n",
    "    if arr[middle_index] == number: # test: constant time\n",
    "        return middle_index # return value: constant time\n",
    "    elif begin_index >= end_index: # test: constant time\n",
    "        return -1 # return value: constant time\n",
    "    elif arr[middle_index] < number: # test: constant time\n",
    "        begin_index = middle_index + 1 # assign value: constant time\n",
    "        return search_sorted_list(number, arr, begin_index, end_index) \n",
    "    elif arr[middle_index] > number: # test: constant time\n",
    "        end_index = middle_index - 1 # assign value: constant time\n",
    "        return search_sorted_list(number, arr, begin_index, end_index)\n",
    "\n",
    "search_sorted_list(14, arr)"
   ]
  },
  {
   "cell_type": "markdown",
   "id": "410300a5",
   "metadata": {},
   "source": [
    "Each time the function is recursively called, the list is half the length. Therefore\n",
    "\n",
    "$$f(n) = O(\\log(n))$$"
   ]
  },
  {
   "cell_type": "markdown",
   "id": "bace6384",
   "metadata": {},
   "source": [
    "## Problem 7\n",
    "\n",
    "The following algorithm compares the values of two arrays and returns an array of pairs where the indexes match in both arrays. For instance, look at the following arrays:\n",
    "\n",
    "The first element in array1 matches both the first and second elements in array2. This means the pairs [0,0] and [0,1] will be in the returned array. The first element in array1 matches the third element in array2 so [1,2] will also be in the returned array. So with the two arrays above, the function will return:\n",
    "\n"
   ]
  },
  {
   "cell_type": "code",
   "execution_count": 21,
   "id": "143d926a",
   "metadata": {},
   "outputs": [
    {
     "data": {
      "text/plain": [
       "[[0, 0], [0, 1], [1, 2]]"
      ]
     },
     "execution_count": 21,
     "metadata": {},
     "output_type": "execute_result"
    }
   ],
   "source": [
    "array1 = [3, 7, 9, 12, 15, 18, 32]\n",
    "array2 = [3, 3, 7, 41, 76]\n",
    "\n",
    "# desired output\n",
    "# [[0,0],[0,1],[1,2]]\n",
    "\n",
    "def compare_arrays(arr1, arr2):\n",
    "    array_of_pairs = [] # variable declaration: constant time\n",
    "    for i in range(len(array1)): # loop n times\n",
    "        for j in range(len(array2)): # loop m times\n",
    "            if arr1[i] == arr2[j]: # test: constant time\n",
    "                array_of_pairs.append([i, j]) # append to list: constant time\n",
    "    return array_of_pairs # return value: constant time\n",
    "    \n",
    "compare_arrays(array1, array2)"
   ]
  },
  {
   "cell_type": "markdown",
   "id": "96fccb1e",
   "metadata": {},
   "source": [
    "Here we have nested loops, but the arrays are not necessarily the same size.\n",
    "\n",
    "Hence, if we call `len(array1) = n` and `len(array2) = m`, we have the time complexity:\n",
    "    \n",
    "$$f(n, m) = O(nm)$$"
   ]
  },
  {
   "cell_type": "markdown",
   "id": "ac703edd",
   "metadata": {},
   "source": [
    "## Problem 8\n",
    "\n",
    "The following function will sort an array of numbers from lowest to highest value. What is its runtime complexity?"
   ]
  },
  {
   "cell_type": "code",
   "execution_count": 24,
   "id": "a95f20a5",
   "metadata": {},
   "outputs": [
    {
     "data": {
      "text/plain": [
       "[1, 3, 4, 12, 32, 55]"
      ]
     },
     "execution_count": 24,
     "metadata": {},
     "output_type": "execute_result"
    }
   ],
   "source": [
    "def sort_by_value(arr):\n",
    "    def swap(arr, index1, index2): # swap function constant time\n",
    "        temp = arr[index1] # var declaration: constant time\n",
    "        arr[index1] = arr[index2] # setting value in list: constant time\n",
    "        arr[index2] = temp # setting value in list: constant time\n",
    "        \n",
    "    count = 1 # var assignment: constant time\n",
    "    while (count < len(arr)): # count += 1 up to n: loops n times\n",
    "        swap_count = 0 # var assignment: constant time\n",
    "        for i in range(len(arr) - count): # loop n times in worst case\n",
    "            if arr[i] > arr[i + 1]: # test: constant time\n",
    "                swap(arr, i, i+1) # constant time\n",
    "                swap_count += 1 # addition: constant time\n",
    "        count += 1 # addition: constant time\n",
    "    return arr # return value: constant time\n",
    "\n",
    "test_arr = [1, 4, 3, 12, 55, 32]\n",
    "\n",
    "sort_by_value(test_arr)"
   ]
  },
  {
   "cell_type": "markdown",
   "id": "f4fabd7b",
   "metadata": {},
   "source": [
    "Here we have nested loops, which the value decreases in the inner loop with each iteration of the outer loop. However, in the worst case, both loops have the same number of iterations. Hence,\n",
    "\n",
    "$$f(n) = O(n^{2})$$"
   ]
  },
  {
   "cell_type": "markdown",
   "id": "d43aff50",
   "metadata": {},
   "source": [
    "## Problem 9\n",
    "\n",
    "The following algorithm checks to see if two arrays have any duplicate values. If they do, the duplicate values are pushed to an array."
   ]
  },
  {
   "cell_type": "code",
   "execution_count": 27,
   "id": "a947b752",
   "metadata": {},
   "outputs": [
    {
     "data": {
      "text/plain": [
       "[2, 3, 5]"
      ]
     },
     "execution_count": 27,
     "metadata": {},
     "output_type": "execute_result"
    }
   ],
   "source": [
    "def return_dupes(arr1, arr2):\n",
    "    dupe_arr = [] # variable declaration: constant time\n",
    "    for i in arr1: # loop n times (n = len(arr1))\n",
    "        for j in arr2: # loop m times (m = len(arr2))\n",
    "            if j == i: # test: constant time\n",
    "                dupe_arr.append(i) # append to list: constant time\n",
    "    return dupe_arr # return value: constant time\n",
    "\n",
    "arr1 = [1, 2, 3, 4, 5]\n",
    "arr2 = [2, 3, 5, 8]\n",
    "\n",
    "return_dupes(arr1, arr2)"
   ]
  },
  {
   "cell_type": "markdown",
   "id": "479ebf28",
   "metadata": {},
   "source": [
    "As with problem 7, we have an inner and outer loop of arrays of different dimensions. Hence\n",
    "\n",
    "$$f(n, m) = O(nm)$$"
   ]
  },
  {
   "cell_type": "code",
   "execution_count": null,
   "id": "b938bb3d",
   "metadata": {},
   "outputs": [],
   "source": []
  }
 ],
 "metadata": {
  "kernelspec": {
   "display_name": "Python 3 (ipykernel)",
   "language": "python",
   "name": "python3"
  },
  "language_info": {
   "codemirror_mode": {
    "name": "ipython",
    "version": 3
   },
   "file_extension": ".py",
   "mimetype": "text/x-python",
   "name": "python",
   "nbconvert_exporter": "python",
   "pygments_lexer": "ipython3",
   "version": "3.9.12"
  }
 },
 "nbformat": 4,
 "nbformat_minor": 5
}
