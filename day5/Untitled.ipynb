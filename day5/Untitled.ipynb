{
 "cells": [
  {
   "cell_type": "code",
   "execution_count": 3,
   "id": "2e10ae99",
   "metadata": {},
   "outputs": [
    {
     "data": {
      "text/plain": [
       "55"
      ]
     },
     "execution_count": 3,
     "metadata": {},
     "output_type": "execute_result"
    }
   ],
   "source": [
    "def sum_up_to1(n):\n",
    "    if n == 1:\n",
    "        return n\n",
    "    else:\n",
    "        return sum_up_to1(n - 1) + n\n",
    "    \n",
    "sum_up_to1(10)"
   ]
  },
  {
   "cell_type": "code",
   "execution_count": 8,
   "id": "88ba29d9",
   "metadata": {},
   "outputs": [
    {
     "data": {
      "text/plain": [
       "55"
      ]
     },
     "execution_count": 8,
     "metadata": {},
     "output_type": "execute_result"
    }
   ],
   "source": [
    "def sum_up_to2(n):\n",
    "    if n== 0 or n == 1:\n",
    "        return n\n",
    "    else:\n",
    "        return sum_up_to2(n - 2) + 2*n - 1\n",
    "    \n",
    "sum_up_to2(10)"
   ]
  },
  {
   "cell_type": "code",
   "execution_count": 17,
   "id": "71c51441",
   "metadata": {},
   "outputs": [
    {
     "data": {
      "text/plain": [
       "55"
      ]
     },
     "execution_count": 17,
     "metadata": {},
     "output_type": "execute_result"
    }
   ],
   "source": [
    "def sum_up_to3(n):\n",
    "    if n== 0 or n == 1:\n",
    "        return n\n",
    "    else:\n",
    "        return sum_up_to3(n - 3) + 3*n - 3\n",
    "    \n",
    "sum_up_to3(10)"
   ]
  },
  {
   "cell_type": "code",
   "execution_count": 20,
   "id": "15e14619",
   "metadata": {},
   "outputs": [
    {
     "data": {
      "text/plain": [
       "45"
      ]
     },
     "execution_count": 20,
     "metadata": {},
     "output_type": "execute_result"
    }
   ],
   "source": [
    "def sum_up_to4(n):\n",
    "    if n == 1:\n",
    "        return n\n",
    "    else:\n",
    "        return 2 * sum_up_to4(n // 2) + (n // 2)**2\n",
    "    \n",
    "sum_up_to4(10)"
   ]
  },
  {
   "cell_type": "code",
   "execution_count": 33,
   "id": "95e53495",
   "metadata": {},
   "outputs": [
    {
     "data": {
      "text/plain": [
       "14"
      ]
     },
     "execution_count": 33,
     "metadata": {},
     "output_type": "execute_result"
    }
   ],
   "source": [
    "# add all the digits of some non-negative integer  (ITERATIVE SOLUTION)\n",
    "test = 5342\n",
    "\n",
    "def add_digits(num):\n",
    "    total = 0\n",
    "    for i in range(len(str(num))):\n",
    "        total += (num // 10**i) % 10\n",
    "        \n",
    "    return total\n",
    "\n",
    "add_digits(test)"
   ]
  },
  {
   "cell_type": "code",
   "execution_count": 37,
   "id": "cdfd9804",
   "metadata": {},
   "outputs": [
    {
     "data": {
      "text/plain": [
       "14"
      ]
     },
     "execution_count": 37,
     "metadata": {},
     "output_type": "execute_result"
    }
   ],
   "source": [
    "# add all the digits of some non-negative integer  (RECURSIVE SOLUTION)\n",
    "test = 5342\n",
    "\n",
    "def add_digits2(num):\n",
    "    if num < 1:\n",
    "        # base case\n",
    "        return num\n",
    "    else:\n",
    "        # recursive case\n",
    "        return add_digits2(num // 10) + num % 10\n",
    "    \n",
    "add_digits2(test)"
   ]
  },
  {
   "cell_type": "code",
   "execution_count": 38,
   "id": "ba5d7748",
   "metadata": {},
   "outputs": [
    {
     "name": "stdout",
     "output_type": "stream",
     "text": [
      "3\n",
      "4\n",
      "7\n",
      "2\n"
     ]
    }
   ],
   "source": [
    "def print_digits_in_reverse(num):\n",
    "    if num < 10:\n",
    "        #base case\n",
    "        print(num)\n",
    "    else:\n",
    "        #recursive case\n",
    "        print(num % 10)\n",
    "        print_digits_in_reverse(num // 10)\n",
    "\n",
    "print_digits_in_reverse(2743)"
   ]
  },
  {
   "cell_type": "code",
   "execution_count": 39,
   "id": "2f12bac5",
   "metadata": {},
   "outputs": [
    {
     "data": {
      "text/plain": [
       "7"
      ]
     },
     "execution_count": 39,
     "metadata": {},
     "output_type": "execute_result"
    }
   ],
   "source": [
    "def max_list_DaC(a):\n",
    "    \n",
    "    if len(a) == 1:\n",
    "        # base case\n",
    "        return a[0]\n",
    "    else:\n",
    "        # recursive case\n",
    "        middle = len(a) // 2\n",
    "        m1 = max_list_DaC(a[0:middle])\n",
    "        m2 = max_list_DaC(a[middle:len(a)])\n",
    "        return max(m1, m2)\n",
    "    \n",
    "v = [5, -1, 3, 2, 4, 7, 2]\n",
    "\n",
    "max_list_DaC(v)"
   ]
  },
  {
   "cell_type": "code",
   "execution_count": 44,
   "id": "bed43386",
   "metadata": {},
   "outputs": [
    {
     "data": {
      "text/plain": [
       "7"
      ]
     },
     "execution_count": 44,
     "metadata": {},
     "output_type": "execute_result"
    }
   ],
   "source": [
    "def max_list_DaC(a, low, high):\n",
    "    if low == high:\n",
    "        # base case\n",
    "        return a[low]\n",
    "    else:\n",
    "        # recursive case\n",
    "        middle = (low + high) // 2\n",
    "        m1 = max_list_DaC(a, low, middle)\n",
    "        m2 = max_list_DaC(a, middle + 1, high)\n",
    "        return max(m1, m2)\n",
    "    \n",
    "max_list_DaC(v, 0, len(v) - 1)"
   ]
  },
  {
   "cell_type": "code",
   "execution_count": 45,
   "id": "39de7cd9",
   "metadata": {},
   "outputs": [],
   "source": [
    "## Two types of binary search"
   ]
  },
  {
   "cell_type": "code",
   "execution_count": null,
   "id": "92762158",
   "metadata": {},
   "outputs": [],
   "source": [
    "def binary_search_with_indices(array):\n",
    "    "
   ]
  },
  {
   "cell_type": "code",
   "execution_count": null,
   "id": "5aed7478",
   "metadata": {},
   "outputs": [],
   "source": [
    "def binary_search_with_limits(a, value, low, high):\n",
    "    if low == high:\n",
    "        # base case\n",
    "        return a[low]\n",
    "    else:\n",
    "        # recursive case\n",
    "        middle = (low + high) // 2\n",
    "        if value > array[middle]:\n",
    "            return binary_search_with_limits[middle+1:high]\n",
    "        else:\n",
    "            return binary_search_with_limits[0:middle-1]"
   ]
  }
 ],
 "metadata": {
  "kernelspec": {
   "display_name": "Python 3 (ipykernel)",
   "language": "python",
   "name": "python3"
  },
  "language_info": {
   "codemirror_mode": {
    "name": "ipython",
    "version": 3
   },
   "file_extension": ".py",
   "mimetype": "text/x-python",
   "name": "python",
   "nbconvert_exporter": "python",
   "pygments_lexer": "ipython3",
   "version": "3.10.4"
  }
 },
 "nbformat": 4,
 "nbformat_minor": 5
}
