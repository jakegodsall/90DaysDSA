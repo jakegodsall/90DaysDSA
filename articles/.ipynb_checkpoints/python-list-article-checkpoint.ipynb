{
 "cells": [
  {
   "cell_type": "markdown",
   "id": "59532b70",
   "metadata": {},
   "source": [
    "# The Python list data structure"
   ]
  },
  {
   "cell_type": "code",
   "execution_count": 53,
   "id": "ab16828b",
   "metadata": {},
   "outputs": [],
   "source": [
    "import sys"
   ]
  },
  {
   "cell_type": "code",
   "execution_count": 73,
   "id": "da31741f",
   "metadata": {},
   "outputs": [],
   "source": [
    "def seq_info(seq):\n",
    "    print(\"Contents:\", seq, \"Size:\", sys.getsizeof(seq))"
   ]
  },
  {
   "cell_type": "code",
   "execution_count": 74,
   "id": "492cf0c1",
   "metadata": {},
   "outputs": [
    {
     "name": "stdout",
     "output_type": "stream",
     "text": [
      "Contents: ['a', 'b', 'c'] Size: 120\n",
      "Contents: ['a', 'b', 'c', 'd'] Size: 120\n",
      "Contents: ['a', 'b', 'c'] Size: 120\n",
      "Contents: ['z', 'a', 'b', 'c'] Size: 120\n",
      "Contents: ['a', 'b', 'c'] Size: 120\n",
      "Contents: ['a', 'b', '(b + c) / 2', 'c'] Size: 120\n"
     ]
    }
   ],
   "source": [
    "my_list = ['a', 'b', 'c']\n",
    "\n",
    "seq_info(my_list)\n",
    "\n",
    "my_list.append('d')\n",
    "\n",
    "seq_info(my_list)\n",
    "\n",
    "my_list.pop()\n",
    "\n",
    "seq_info(my_list)\n",
    "\n",
    "my_list.insert(0, 'z')\n",
    "\n",
    "seq_info(my_list)\n",
    "\n",
    "my_list.pop(0)\n",
    "\n",
    "seq_info(my_list)\n",
    "\n",
    "my_list.insert(2, \"(b + c) / 2\")\n",
    "\n",
    "seq_info(my_list)\n",
    "my_list.pop(2);"
   ]
  },
  {
   "cell_type": "code",
   "execution_count": 167,
   "id": "e27fb5bb",
   "metadata": {},
   "outputs": [
    {
     "name": "stdout",
     "output_type": "stream",
     "text": [
      "['a', 'b', 'c']\n",
      "Memory address: 140657513265008\n",
      "Memory address: 140657513504816\n",
      "Memory address: 140657513905648\n"
     ]
    }
   ],
   "source": [
    "print(my_list)\n",
    "\n",
    "for i in my_list:\n",
    "    print(\"Memory address: {}\".format(id(i)))"
   ]
  },
  {
   "cell_type": "code",
   "execution_count": 133,
   "id": "e06c2a67",
   "metadata": {},
   "outputs": [
    {
     "name": "stdout",
     "output_type": "stream",
     "text": [
      "Length   Size (bytes)   Size diff (bytes)\n",
      "     0           56                     0\n",
      "     1           88                    32\n",
      "     2           88                     0\n",
      "     3           88                     0\n",
      "     4           88                     0\n",
      "     5          120                    32\n",
      "     6          120                     0\n",
      "     7          120                     0\n",
      "     8          120                     0\n",
      "     9          184                    64\n",
      "    10          184                     0\n",
      "    11          184                     0\n",
      "    12          184                     0\n",
      "    13          184                     0\n",
      "    14          184                     0\n",
      "    15          184                     0\n",
      "    16          184                     0\n",
      "    17          248                    64\n",
      "    18          248                     0\n",
      "    19          248                     0\n",
      "    20          248                     0\n",
      "    21          248                     0\n",
      "    22          248                     0\n",
      "    23          248                     0\n",
      "    24          248                     0\n",
      "    25          312                    64\n",
      "    26          312                     0\n",
      "    27          312                     0\n",
      "    28          312                     0\n",
      "    29          312                     0\n"
     ]
    }
   ],
   "source": [
    "data = []\n",
    "length = []\n",
    "size_in_bytes = []\n",
    "\n",
    "for k in range(30):\n",
    "    a = len(data)\n",
    "    b = sys.getsizeof(data)\n",
    "\n",
    "    data.append(None)\n",
    "    length.append(a)\n",
    "    size_in_bytes.append(b)\n",
    "    \n",
    "diff_in_bytes = [size_in_bytes[i + 1]-size_in_bytes[i] for i in range(len(size_in_bytes) - 1)]\n",
    "diff_in_bytes.insert(0, 0) # insert zero for the first element in the list\n",
    "\n",
    "print(\"{:<8} {:<14} {:<10}\".format('Length', 'Size (bytes)', 'Size diff (bytes)'))\n",
    "for i in range(len(data)):\n",
    "    print(\"{:6} {:12} {:21}\".format(length[i], size_in_bytes[i], diff_in_bytes[i]))"
   ]
  },
  {
   "cell_type": "code",
   "execution_count": 48,
   "id": "8df155c2",
   "metadata": {},
   "outputs": [],
   "source": [
    "import array as arr"
   ]
  },
  {
   "cell_type": "code",
   "execution_count": 134,
   "id": "5c3e2966",
   "metadata": {},
   "outputs": [
    {
     "name": "stdout",
     "output_type": "stream",
     "text": [
      "Contents: array('i', [1, 2, 3]) Size: 76\n",
      "Contents: array('i', [1, 2, 3, 4]) Size: 92\n",
      "Contents: array('i', [1, 2, 3]) Size: 92\n",
      "Contents: array('i', [0, 1, 2, 3]) Size: 92\n",
      "Contents: array('i', [1, 2, 3]) Size: 92\n"
     ]
    }
   ],
   "source": [
    "my_array = arr.array('i', [1, 2, 3])\n",
    "seq_info(my_array)\n",
    "\n",
    "my_array.append(4)\n",
    "seq_info(my_array)\n",
    "\n",
    "my_array.pop()\n",
    "seq_info(my_array)\n",
    "\n",
    "my_array.insert(0, 0)\n",
    "seq_info(my_array)\n",
    "\n",
    "my_array.pop(0)\n",
    "seq_info(my_array)"
   ]
  },
  {
   "cell_type": "code",
   "execution_count": 135,
   "id": "d76c3b53",
   "metadata": {},
   "outputs": [
    {
     "name": "stdout",
     "output_type": "stream",
     "text": [
      "Length   Size (bytes)   Size diff (bytes)\n",
      "     0           64                     0\n",
      "     1           80                    16\n",
      "     2           80                     0\n",
      "     3           80                     0\n",
      "     4           80                     0\n",
      "     5           96                    16\n",
      "     6           96                     0\n",
      "     7           96                     0\n",
      "     8           96                     0\n",
      "     9          128                    32\n",
      "    10          128                     0\n",
      "    11          128                     0\n",
      "    12          128                     0\n",
      "    13          128                     0\n",
      "    14          128                     0\n",
      "    15          128                     0\n",
      "    16          128                     0\n",
      "    17          164                    36\n",
      "    18          164                     0\n",
      "    19          164                     0\n",
      "    20          164                     0\n",
      "    21          164                     0\n",
      "    22          164                     0\n",
      "    23          164                     0\n",
      "    24          164                     0\n",
      "    25          164                     0\n",
      "    26          200                    36\n",
      "    27          200                     0\n",
      "    28          200                     0\n",
      "    29          200                     0\n"
     ]
    }
   ],
   "source": [
    "data = arr.array('i')\n",
    "length = []\n",
    "size_in_bytes = []\n",
    "\n",
    "for k in range(30):\n",
    "    a = len(data)\n",
    "    b = sys.getsizeof(data)\n",
    "\n",
    "    data.append(1)\n",
    "    length.append(a)\n",
    "    size_in_bytes.append(b)\n",
    "    \n",
    "diff_in_bytes = [size_in_bytes[i + 1]-size_in_bytes[i] for i in range(len(size_in_bytes) - 1)]\n",
    "diff_in_bytes.insert(0, 0) # insert zero for the first element in the list\n",
    "\n",
    "print(\"{:<8} {:<14} {:<10}\".format('Length', 'Size (bytes)', 'Size diff (bytes)'))\n",
    "for i in range(len(data)):\n",
    "    print(\"{:6} {:12} {:21}\".format(length[i], size_in_bytes[i], diff_in_bytes[i]))"
   ]
  },
  {
   "cell_type": "code",
   "execution_count": 121,
   "id": "8f300595",
   "metadata": {},
   "outputs": [],
   "source": [
    "import ctypes\n",
    "\n",
    "class DynamicArray:\n",
    "    \"\"\"\n",
    "        A dynamic array.\n",
    "    \"\"\"\n",
    "    \n",
    "    \n",
    "    def __init__(self):\n",
    "        \"\"\"\n",
    "            Create the empty array.\n",
    "        \"\"\"\n",
    "        self._n = 0 # count number of elements within the array (0 for empty)\n",
    "        self._capacity = 1 # default array capacity\n",
    "        self._A = self._make_array(self._capacity) # create and store a low-level array\n",
    "        \n",
    "        \n",
    "    def __len__(self):\n",
    "        \"\"\"\n",
    "            Return the number of elements within the dynamic array.\n",
    "        \"\"\"\n",
    "        return self._n\n",
    "    \n",
    "    \n",
    "    def __getitem__(self, k):\n",
    "        \"\"\"\n",
    "            Return element at index k.\n",
    "        \"\"\"\n",
    "        if not 0 <= k < self._n: # check to make sure k is within bounds of index\n",
    "            raise IndexError('Index out of bounds')\n",
    "        else:\n",
    "            return self._A[k]\n",
    "        \n",
    "    def get_capacity(self):\n",
    "        \"\"\"\n",
    "            Return the capacity of the dynamic array.\n",
    "        \"\"\"\n",
    "        return self._capacity\n",
    "    \n",
    "    \n",
    "    def append(self, obj):\n",
    "        \"\"\"\n",
    "            Add an object to the end of an array.\n",
    "        \"\"\"\n",
    "        if self._n == self._capacity: # check if the array is full\n",
    "            self._resize(2 * self._capacity)\n",
    "        self._A[self._n] = obj # store obj at the nth index of A\n",
    "        self._n += 1 # increase the count of elements by 1\n",
    "        \n",
    "    \n",
    "    def _resize(self, c):\n",
    "        \"\"\"\n",
    "            Resize internal array to capacity c.\n",
    "        \"\"\"\n",
    "        B = self._make_array(c) # create a bigger array of size c\n",
    "        for k in range(self._n): # loop through all existing elements in A\n",
    "            B[k] = self._A[k] # and copy their references over to B\n",
    "        self._A = B # assign B to A\n",
    "        self._capacity = c # assign the new capacity c\n",
    "        \n",
    "    \n",
    "    def _make_array(self, c):\n",
    "        \"\"\"\n",
    "            Return new array with capacity c.\n",
    "        \"\"\"\n",
    "        return (c * ctypes.py_object)()\n",
    "        "
   ]
  },
  {
   "cell_type": "code",
   "execution_count": 118,
   "id": "cac451c0",
   "metadata": {},
   "outputs": [],
   "source": [
    "da = DynamicArray()"
   ]
  },
  {
   "cell_type": "code",
   "execution_count": 146,
   "id": "fbe0bc4e",
   "metadata": {
    "scrolled": false
   },
   "outputs": [
    {
     "name": "stdout",
     "output_type": "stream",
     "text": [
      "Length   Capacity      \n",
      "     0          1\n",
      "     1          1\n",
      "     2          2\n",
      "     3          4\n",
      "     4          4\n",
      "     5          8\n",
      "     6          8\n",
      "     7          8\n",
      "     8          8\n",
      "     9         16\n",
      "    10         16\n",
      "    11         16\n",
      "    12         16\n",
      "    13         16\n",
      "    14         16\n",
      "    15         16\n",
      "    16         16\n",
      "    17         32\n",
      "    18         32\n",
      "    19         32\n"
     ]
    }
   ],
   "source": [
    "data = DynamicArray()\n",
    "length = []\n",
    "capacity = []\n",
    "size_in_bytes = []\n",
    "\n",
    "for k in range(20):\n",
    "    a = len(data)\n",
    "    b = data.get_capacity()\n",
    "\n",
    "    data.append(None)\n",
    "    length.append(a)\n",
    "    capacity.append(b)\n",
    "    size_in_bytes.append(c)\n",
    "    \n",
    "diff_in_bytes = [size_in_bytes[i + 1]-size_in_bytes[i] for i in range(len(size_in_bytes) - 1)]\n",
    "diff_in_bytes.insert(0, 0) # insert zero for the first element in the list\n",
    "\n",
    "print(\"{:<8} {:<14}\".format('Length', 'Capacity'))\n",
    "for i in range(len(data)):\n",
    "    print(\"{:6} {:10}\".format(length[i], capacity[i]))"
   ]
  },
  {
   "cell_type": "code",
   "execution_count": null,
   "id": "fb7077ef",
   "metadata": {},
   "outputs": [],
   "source": []
  }
 ],
 "metadata": {
  "kernelspec": {
   "display_name": "Python 3 (ipykernel)",
   "language": "python",
   "name": "python3"
  },
  "language_info": {
   "codemirror_mode": {
    "name": "ipython",
    "version": 3
   },
   "file_extension": ".py",
   "mimetype": "text/x-python",
   "name": "python",
   "nbconvert_exporter": "python",
   "pygments_lexer": "ipython3",
   "version": "3.9.12"
  }
 },
 "nbformat": 4,
 "nbformat_minor": 5
}
